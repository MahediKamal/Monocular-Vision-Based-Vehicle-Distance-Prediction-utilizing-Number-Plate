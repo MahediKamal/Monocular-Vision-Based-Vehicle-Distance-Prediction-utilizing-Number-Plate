{
  "nbformat": 4,
  "nbformat_minor": 0,
  "metadata": {
    "colab": {
      "provenance": [],
      "mount_file_id": "13wrQax6ctNW1MxnmksWZ-fndo0HFeMCK",
      "authorship_tag": "ABX9TyMH29xstBY854Br7ybvZfTx",
      "include_colab_link": true
    },
    "kernelspec": {
      "name": "python3",
      "display_name": "Python 3"
    },
    "language_info": {
      "name": "python"
    }
  },
  "cells": [
    {
      "cell_type": "markdown",
      "metadata": {
        "id": "view-in-github",
        "colab_type": "text"
      },
      "source": [
        "<a href=\"https://colab.research.google.com/github/MahediKamal/thesis/blob/main/thesis_car_distense_measurement_v3.ipynb\" target=\"_parent\"><img src=\"https://colab.research.google.com/assets/colab-badge.svg\" alt=\"Open In Colab\"/></a>"
      ]
    },
    {
      "cell_type": "code",
      "execution_count": null,
      "metadata": {
        "colab": {
          "base_uri": "https://localhost:8080/"
        },
        "id": "8Kdxi8PcrqtN",
        "outputId": "c03d9e84-4098-407e-dbdb-10580c9a261f"
      },
      "outputs": [
        {
          "output_type": "stream",
          "name": "stdout",
          "text": [
            "/content/drive/MyDrive/Thesis/yolov5\n"
          ]
        }
      ],
      "source": [
        "# take_video -> split_frames -> iterate_over_frames -> crop_number_plates -> iterate_over_croped_images -> calculate_text_size -> predict_distance\n",
        "# step-1         step-2           step-3                 step-4               step-5                          step-6                 step-7\n",
        "%cd /content/drive/MyDrive/Thesis/yolov5\n",
        "%pip install -qr requirements.txt  # install\n",
        "\n",
        "import torch\n",
        "import utils\n",
        "\n",
        "import cv2 as cv"
      ]
    },
    {
      "cell_type": "code",
      "source": [
        "from PIL import Image as im\n",
        "%matplotlib inline\n",
        "from matplotlib import pyplot as plt\n",
        "from google.colab.patches import cv2_imshow\n",
        "import numpy as np\n",
        "import os\n",
        "from zmq.constants import NULL"
      ],
      "metadata": {
        "id": "tBP5d4mBryBE"
      },
      "execution_count": null,
      "outputs": []
    },
    {
      "cell_type": "code",
      "source": [
        "# imports for regrassion\n",
        "! pip install pandas\n",
        "import pandas as pd\n",
        "import numpy as np\n",
        "import matplotlib.pyplot as plt\n",
        "from sklearn.model_selection import train_test_split\n",
        "from sklearn.linear_model import LinearRegression\n",
        "from sklearn.preprocessing import PolynomialFeatures"
      ],
      "metadata": {
        "colab": {
          "base_uri": "https://localhost:8080/"
        },
        "id": "6pzPwYyqwUV-",
        "outputId": "45e3093a-0230-4c09-9c05-2f40a5e28ed0"
      },
      "execution_count": null,
      "outputs": [
        {
          "output_type": "stream",
          "name": "stdout",
          "text": [
            "Looking in indexes: https://pypi.org/simple, https://us-python.pkg.dev/colab-wheels/public/simple/\n",
            "Requirement already satisfied: pandas in /usr/local/lib/python3.7/dist-packages (1.3.5)\n",
            "Requirement already satisfied: pytz>=2017.3 in /usr/local/lib/python3.7/dist-packages (from pandas) (2022.6)\n",
            "Requirement already satisfied: numpy>=1.17.3 in /usr/local/lib/python3.7/dist-packages (from pandas) (1.21.6)\n",
            "Requirement already satisfied: python-dateutil>=2.7.3 in /usr/local/lib/python3.7/dist-packages (from pandas) (2.8.2)\n",
            "Requirement already satisfied: six>=1.5 in /usr/local/lib/python3.7/dist-packages (from python-dateutil>=2.7.3->pandas) (1.15.0)\n"
          ]
        }
      ]
    },
    {
      "cell_type": "code",
      "source": [
        "\n",
        "# ------------define path and variable\n",
        "number_pate_detection_model_path = '/content/drive/MyDrive/train_data/best_number_plate.pt'\n",
        "# frame_path = \"/content/drive/MyDrive/mahedikamal01/ Thesis /4.jpg\"\n",
        "is_model_ready = False\n",
        "model = NULL\n",
        "\n",
        "regression_model = NULL"
      ],
      "metadata": {
        "id": "dwphL19_ryDJ"
      },
      "execution_count": null,
      "outputs": []
    },
    {
      "cell_type": "code",
      "source": [],
      "metadata": {
        "id": "ztCbTB_7fRpC"
      },
      "execution_count": null,
      "outputs": []
    },
    {
      "cell_type": "code",
      "source": [
        "# ----------define all functios\n",
        "def delete_folder():\n",
        "  !rm -rf '/content/drive/MyDrive/Thesis/yolov5/runs/detect/exp'\n",
        "\n",
        "def build_model():\n",
        "  global model\n",
        "  model = torch.hub.load('ultralytics/yolov5', 'custom', path=number_pate_detection_model_path, force_reload=True)\n",
        "  global is_model_ready\n",
        "  is_model_ready = True\n",
        "\n",
        "\n",
        "def show_detection():\n",
        "  !python /content/drive/MyDrive/Thesis/yolov5/detect.py --weights '/content/drive/MyDrive/train_data/best_number_plate.pt' --img 640 --conf 0.25 --source '/content/drive/MyDrive/Thesis/training_demo/images/train/18.jpg'\n",
        "  # display.Image(filename='/content/drive/MyDrive/Thesis/yolov5/runs/detect/exp/licence_pa.jpg', width=600)\n",
        "  img = cv.imread(\"/content/drive/MyDrive/Thesis/yolov5/runs/detect/exp/18.jpg\")\n",
        "  plt.subplot(111), plt.imshow(img),plt.title('output')\n",
        "  # !rm -rf /content/drive/MyDrive/Thesis/yolov5/runs/detect/exp"
      ],
      "metadata": {
        "id": "FfXjt7TVryGB"
      },
      "execution_count": null,
      "outputs": []
    },
    {
      "cell_type": "code",
      "source": [
        "\n",
        "def build_regression_model():\n",
        "  df = pd.read_csv('/content/drive/MyDrive/Thesis/train(distance).csv') # train data\n",
        "  x = df['pixel']\n",
        "  y = df['distance']\n",
        "\n",
        "  poly = PolynomialFeatures(degree = 2)\n",
        "  X_poly = poly.fit_transform(df[['pixel']]) # [x   x^2   x^3 ...]\n",
        "  \n",
        "  global regression_model\n",
        "  regression_model = LinearRegression()\n",
        "  regression_model.fit(X_poly, y)"
      ],
      "metadata": {
        "id": "_oHYqmUXwlW_"
      },
      "execution_count": null,
      "outputs": []
    },
    {
      "cell_type": "code",
      "source": [
        "def find_length(posi, posj, np_img):\n",
        "  stack = []\n",
        "  stack.append([posi,posj])\n",
        "  x4 = [1, 0, -1, 0, 2, 0, -2, 0, 3, 0, -3, 0];\n",
        "  y4 = [0, 1, 0, -1, 0, 2, 0, -2, 0, 3, 0, -3];\n",
        "  \n",
        "  minh = posi\n",
        "  maxh = posi\n",
        "  while(len(stack) > 0):\n",
        "    cur = stack.pop()\n",
        "    x = cur[0]\n",
        "    y = cur[1]\n",
        "    if(x > maxh):\n",
        "      maxh = x\n",
        "    if(x < minh):\n",
        "      minh = x\n",
        "    np_img[x][y] = 150\n",
        "    # print(stack)\n",
        "    for i in range(0, 12):\n",
        "      dx = x + x4[i]\n",
        "      dy = y + y4[i]\n",
        "      # print(dx,dy)\n",
        "      if(np_img[dx][dy] == 0):\n",
        "        stack.append([dx,dy]) \n",
        "  \n",
        "  # print(maxh, minh, maxh-minh)\n",
        "  return maxh-minh"
      ],
      "metadata": {
        "id": "-kJHKzFJqLiT"
      },
      "execution_count": null,
      "outputs": []
    },
    {
      "cell_type": "code",
      "source": [
        "def find_black_points(np_img, row, tot_clm):\n",
        "  lst = []\n",
        "  for i in range(1,tot_clm-1):\n",
        "    if(np_img[row][i-1] == 255 and np_img[row][i] == 0):\n",
        "      lst.append(i)\n",
        "  return lst"
      ],
      "metadata": {
        "id": "WDtpSo3unqD7"
      },
      "execution_count": null,
      "outputs": []
    },
    {
      "cell_type": "code",
      "source": [
        "def convert_to_01(np_img):\n",
        "  np_img[np_img < 130] = 0\n",
        "  np_img[np_img > 130] = 255\n",
        "  return np_img"
      ],
      "metadata": {
        "id": "f98sKKHImkYC"
      },
      "execution_count": null,
      "outputs": []
    },
    {
      "cell_type": "code",
      "source": [
        "def color_white_sorrounding_digits(crop_img_path):\n",
        "  #---------------------------------color_white_sorrounding_digits---------\n",
        "  crp_img = cv.imread(crop_img_path)\n",
        "  gray = cv.cvtColor(crp_img, cv.COLOR_BGR2GRAY)\n",
        "  # plt.imshow(cv.cvtColor(gray, cv.COLOR_BGR2RGB))\n",
        "\n",
        "  arr = np.array(gray)\n",
        "  #arr[arr > 100] = 0\n",
        "  x = int((arr.shape[0])/2)\n",
        "  for i in range(0, x):\n",
        "    for j in range(0, arr.shape[1]-1):\n",
        "      arr[i][j] = 255\n",
        "\n",
        "  x_hf = int(x/2)-1\n",
        "  y_f = int((arr.shape[1]/9)*2)\n",
        "  y_s = int(arr.shape[1] - int((arr.shape[1]/9)*2))\n",
        "\n",
        "  for i in range(x_hf, arr.shape[0]):\n",
        "    for j in range(0, y_f):\n",
        "      arr[i][j] = 255\n",
        "\n",
        "  for i in range(x_hf, arr.shape[0]):\n",
        "    for j in range(y_s, arr.shape[1]-1):\n",
        "      arr[i][j] = 255\n",
        "      \n",
        "  # data = im.fromarray(arr)\n",
        "  return arr\n",
        "  # plt.imshow(data)"
      ],
      "metadata": {
        "id": "vGg3iXUsh0hz"
      },
      "execution_count": null,
      "outputs": []
    },
    {
      "cell_type": "code",
      "source": [
        "def calculate_text_size(crop_img_path):\n",
        "  print(\"calculating size\")\n",
        "  pre_processed_img_arr1 = color_white_sorrounding_digits(crop_img_path)\n",
        "  pre_processed_img_arr2 = convert_to_01(pre_processed_img_arr1)\n",
        "\n",
        "  mid = int((pre_processed_img_arr2.shape[0])/2)\n",
        "  mid = int(mid + (mid/2))\n",
        "\n",
        "  lst = find_black_points(pre_processed_img_arr2, mid, pre_processed_img_arr2.shape[1]-1)\n",
        "  print(lst)\n",
        "\n",
        "  mx_sz = 0\n",
        "  for i in range (0, len(lst)):\n",
        "    sz = find_length(mid,lst[i],pre_processed_img_arr2)\n",
        "    if sz > mx_sz:\n",
        "      mx_sz = sz\n",
        "  print(mx_sz)\n",
        "  # ------------------------------------step-7 ()------------\n",
        "  build_regression_model()\n",
        "  poly = PolynomialFeatures(degree = 2)\n",
        "  global regression_model\n",
        "  print(\"predicted distace: \")\n",
        "  print(regression_model.predict(poly.fit_transform([[mx_sz]])))\n",
        "\n",
        "  \n",
        "  # data = im.fromarray(pre_processed_img_arr2)\n",
        "  # plt.imshow(data)\n",
        "  "
      ],
      "metadata": {
        "id": "g1iy9Is0fV0g"
      },
      "execution_count": null,
      "outputs": []
    },
    {
      "cell_type": "code",
      "source": [
        "  def find_number_plate_coordinates(frame_path):\n",
        "    global is_model_ready\n",
        "    if(is_model_ready == False):\n",
        "      build_model()\n",
        "    global model\n",
        "    result = model(frame_path)\n",
        "    crops = result.crop(save=True) \n",
        "\n",
        "    # ------------------------------step-5 (iterate_over_croped_images)------------------------------\n",
        "    directory = '/content/drive/MyDrive/Thesis/yolov5/runs/detect/exp/crops/number_plate'\n",
        "    # iterate over files in that directory\n",
        "    for filename in os.listdir(directory):\n",
        "        f = os.path.join(directory, filename)\n",
        "        # checking if it is a file\n",
        "        if os.path.isfile(f):\n",
        "          \n",
        "          # ------------------------------step-6 (calculate_text_size)------------------------------\n",
        "          text_sise = calculate_text_size(f)\n",
        "          print(f)"
      ],
      "metadata": {
        "id": "atH_hmWdfbAx"
      },
      "execution_count": null,
      "outputs": []
    },
    {
      "cell_type": "code",
      "source": [
        "# ------------------------------step-3 (iterate_over_frames)---------------------------------------\n",
        "# after splitting images we will save the frames inside a folder name 'frames'\n",
        "def iterate_over_frames():\n",
        "  # assign directory\n",
        "  directory = '/content/drive/MyDrive/mahedikamal01/ Thesis /frames'\n",
        "  \n",
        "  # iterate over files in\n",
        "  # that directory\n",
        "  for filename in os.listdir(directory):\n",
        "      f = os.path.join(directory, filename)\n",
        "      # checking if it is a file\n",
        "      if os.path.isfile(f):\n",
        "        # ------------------------------step-4 (crop_number_plates)--------------------------------\n",
        "        find_number_plate_coordinates(f) # finds number plate and crot it\n",
        "        print(f)\n",
        "        break"
      ],
      "metadata": {
        "id": "fxjfDjI1ryIo"
      },
      "execution_count": null,
      "outputs": []
    },
    {
      "cell_type": "code",
      "source": [
        "iterate_over_frames()"
      ],
      "metadata": {
        "colab": {
          "base_uri": "https://localhost:8080/"
        },
        "id": "IsGzjGJe05n-",
        "outputId": "8d029541-c4c5-4ced-ce88-7bd6737c13ba"
      },
      "execution_count": null,
      "outputs": [
        {
          "output_type": "stream",
          "name": "stderr",
          "text": [
            "INFO:yolov5:Saved 1 image to \u001b[1mruns/detect/exp6\u001b[0m\n",
            "Saved 1 image to \u001b[1mruns/detect/exp6\u001b[0m\n",
            "INFO:yolov5:Saved results to runs/detect/exp6\n",
            "\n",
            "Saved results to runs/detect/exp6\n",
            "\n"
          ]
        },
        {
          "output_type": "stream",
          "name": "stdout",
          "text": [
            "calculating size\n",
            "[144, 209, 284, 308]\n",
            "55\n",
            "predicted distace: \n",
            "[      12.19]\n",
            "/content/drive/MyDrive/Thesis/yolov5/runs/detect/exp/crops/number_plate/4.8.jpg\n",
            "calculating size\n",
            "[122, 140, 186, 252, 277, 294]\n",
            "52\n",
            "predicted distace: \n",
            "[     12.941]\n",
            "/content/drive/MyDrive/Thesis/yolov5/runs/detect/exp/crops/number_plate/4.82.jpg\n",
            "/content/drive/MyDrive/mahedikamal01/ Thesis /frames/4.8.jpg\n"
          ]
        }
      ]
    },
    {
      "cell_type": "code",
      "source": [
        "delete_folder()"
      ],
      "metadata": {
        "id": "RW1m9PAsryLE"
      },
      "execution_count": null,
      "outputs": []
    },
    {
      "cell_type": "code",
      "source": [],
      "metadata": {
        "id": "E_ucCty6ryNd"
      },
      "execution_count": null,
      "outputs": []
    }
  ]
}